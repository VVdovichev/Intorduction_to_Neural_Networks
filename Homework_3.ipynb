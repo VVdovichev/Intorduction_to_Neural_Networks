{
  "nbformat": 4,
  "nbformat_minor": 0,
  "metadata": {
    "colab": {
      "name": "Homework_3.ipynb",
      "provenance": [],
      "collapsed_sections": []
    },
    "kernelspec": {
      "name": "python3",
      "display_name": "Python 3"
    },
    "language_info": {
      "name": "python"
    }
  },
  "cells": [
    {
      "cell_type": "markdown",
      "source": [
        " **В конце ноутбука создаются два массива с рукописными буквами и с характеристиками вина.\n",
        "Задание на дом: выбрать датасет, возможно, предварительно обработать, создать модель нейронной сети, обучить и проверить точность на тестовом датасете. Напишите свои мысли по поводу результатов.\n",
        "При желании можно рассмотреть оба датасета, можете попробовать применить другие методы машинного обучения, известные вам, и сравнить результаты обучения.**"
      ],
      "metadata": {
        "id": "I8gkWV0PWzqk"
      }
    },
    {
      "cell_type": "code",
      "source": [
        "#!pip install tensorflow"
      ],
      "metadata": {
        "id": "m0ww47YnYAwf"
      },
      "execution_count": 1,
      "outputs": []
    },
    {
      "cell_type": "code",
      "execution_count": 2,
      "metadata": {
        "id": "H-K84ZuTV-IE"
      },
      "outputs": [],
      "source": [
        "import numpy as np\n",
        "import pandas as pd\n",
        "import tensorflow as tf\n",
        "from tensorflow.keras.models import Sequential\n",
        "from tensorflow.keras.layers import Dense\n",
        "from tensorflow import keras\n",
        "from sklearn.metrics import accuracy_score\n",
        "from sklearn.model_selection import train_test_split\n",
        "import matplotlib.pyplot as plt\n"
      ]
    },
    {
      "cell_type": "code",
      "source": [
        "print(tf.__version__)"
      ],
      "metadata": {
        "colab": {
          "base_uri": "https://localhost:8080/"
        },
        "id": "T_j9RRvugU9W",
        "outputId": "9863a954-5138-4225-f716-8e0601162461"
      },
      "execution_count": 3,
      "outputs": [
        {
          "output_type": "stream",
          "name": "stdout",
          "text": [
            "2.8.2\n"
          ]
        }
      ]
    },
    {
      "cell_type": "code",
      "source": [
        "classes = [i for i in range(10)] + list('ABCDEFGHIJKLMNOPQRSTUVWXYZ')\n",
        "print(classes)\n",
        "\n",
        "X = np.load('binary_alpha_digits_images.npy')\n",
        "y = np.load('binary_alpha_digits_labels.npy')"
      ],
      "metadata": {
        "colab": {
          "base_uri": "https://localhost:8080/"
        },
        "id": "3cCyVI9GX6X0",
        "outputId": "6dc4d3c6-5d61-459c-b193-33942f5e55aa"
      },
      "execution_count": 4,
      "outputs": [
        {
          "output_type": "stream",
          "name": "stdout",
          "text": [
            "[0, 1, 2, 3, 4, 5, 6, 7, 8, 9, 'A', 'B', 'C', 'D', 'E', 'F', 'G', 'H', 'I', 'J', 'K', 'L', 'M', 'N', 'O', 'P', 'Q', 'R', 'S', 'T', 'U', 'V', 'W', 'X', 'Y', 'Z']\n"
          ]
        }
      ]
    },
    {
      "cell_type": "code",
      "source": [
        "fig, axes = plt.subplots(3, 5, figsize=(10, 5))\n",
        "fig.suptitle('binary alpha digits', fontsize=20)\n",
        "n = 0\n",
        "for ax in axes.flat:\n",
        "    ax.set_yticks([])\n",
        "    ax.set_xticks([])\n",
        "    ax.imshow(X[n], cmap=plt.cm.binary)\n",
        "    ax.set_xlabel(classes[y[n]])\n",
        "    n += 1"
      ],
      "metadata": {
        "colab": {
          "base_uri": "https://localhost:8080/",
          "height": 353
        },
        "id": "aLYHUYwWY4Sb",
        "outputId": "b1ab413e-3a96-4aab-f3f9-2bc1d87765b3"
      },
      "execution_count": 5,
      "outputs": [
        {
          "output_type": "display_data",
          "data": {
            "text/plain": [
              "<Figure size 720x360 with 15 Axes>"
            ],
            "image/png": "[encoded data removed]"
          },
          "metadata": {}
        }
      ]
    },
    {
      "cell_type": "code",
      "source": [
        "X[0]"
      ],
      "metadata": {
        "colab": {
          "base_uri": "https://localhost:8080/"
        },
        "id": "ssQFNzGeaxZN",
        "outputId": "46a63ae3-5201-4229-aca0-5da962b54ee3"
      },
      "execution_count": 6,
      "outputs": [
        {
          "output_type": "execute_result",
          "data": {
            "text/plain": [
              "array([[0, 0, 0, 0, 0, 0, 0, 0, 0, 0, 0, 0, 0, 0, 0, 1],\n",
              "       [0, 0, 0, 0, 0, 0, 0, 0, 0, 0, 0, 0, 0, 0, 1, 1],\n",
              "       [1, 1, 1, 0, 0, 0, 0, 0, 0, 0, 0, 0, 0, 1, 1, 1],\n",
              "       [1, 1, 1, 1, 0, 0, 0, 0, 0, 0, 0, 0, 1, 1, 1, 1],\n",
              "       [1, 1, 1, 1, 1, 0, 0, 0, 0, 0, 0, 1, 1, 1, 1, 0],\n",
              "       [0, 0, 1, 1, 1, 1, 1, 0, 0, 0, 1, 1, 1, 1, 0, 0],\n",
              "       [0, 0, 0, 1, 1, 1, 1, 1, 0, 1, 1, 1, 1, 0, 0, 0],\n",
              "       [0, 0, 0, 0, 1, 1, 1, 1, 1, 1, 1, 1, 0, 0, 0, 0],\n",
              "       [0, 0, 0, 0, 0, 1, 1, 1, 1, 1, 1, 1, 0, 0, 0, 0],\n",
              "       [0, 0, 0, 0, 0, 0, 1, 1, 1, 1, 1, 0, 0, 0, 0, 0],\n",
              "       [0, 0, 0, 0, 0, 0, 0, 1, 1, 1, 1, 1, 0, 0, 0, 0],\n",
              "       [0, 0, 0, 0, 0, 0, 1, 1, 1, 1, 1, 1, 1, 0, 0, 0],\n",
              "       [0, 0, 0, 0, 0, 0, 1, 1, 1, 1, 1, 1, 1, 1, 0, 0],\n",
              "       [0, 0, 0, 0, 0, 1, 1, 1, 0, 0, 1, 1, 1, 1, 1, 0],\n",
              "       [0, 0, 0, 0, 0, 1, 1, 1, 0, 0, 0, 1, 1, 1, 1, 1],\n",
              "       [0, 0, 0, 0, 1, 1, 1, 0, 0, 0, 0, 0, 1, 1, 1, 1],\n",
              "       [0, 0, 0, 0, 1, 1, 0, 0, 0, 0, 0, 0, 0, 0, 1, 1],\n",
              "       [0, 0, 0, 1, 1, 1, 0, 0, 0, 0, 0, 0, 0, 0, 1, 1],\n",
              "       [0, 0, 0, 1, 1, 0, 0, 0, 0, 0, 0, 0, 0, 0, 0, 1],\n",
              "       [0, 0, 0, 1, 1, 0, 0, 0, 0, 0, 0, 0, 0, 0, 0, 0]], dtype=uint8)"
            ]
          },
          "metadata": {},
          "execution_count": 6
        }
      ]
    },
    {
      "cell_type": "markdown",
      "source": [
        "**Данные имеют бинарный вид и не требуют нормализации.**"
      ],
      "metadata": {
        "id": "XxC-6u-VbF1p"
      }
    },
    {
      "cell_type": "code",
      "source": [
        "X = X.reshape(X.shape[0], -1)"
      ],
      "metadata": {
        "id": "Y3hj6az72LRH"
      },
      "execution_count": 7,
      "outputs": []
    },
    {
      "cell_type": "code",
      "source": [
        "# Разбиение данных на обучающую и тестовую выборки.\n",
        "X_train, X_test, y_train, y_test = train_test_split(X, y, test_size=0.3, random_state=42)\n",
        "X_train.shape, X_test.shape, y_train.shape, y_test.shape"
      ],
      "metadata": {
        "colab": {
          "base_uri": "https://localhost:8080/"
        },
        "id": "YFqrUChAbAfI",
        "outputId": "34d45424-117d-4c98-cae0-7eaf4fb0dd7b"
      },
      "execution_count": 8,
      "outputs": [
        {
          "output_type": "execute_result",
          "data": {
            "text/plain": [
              "((982, 320), (422, 320), (982,), (422,))"
            ]
          },
          "metadata": {},
          "execution_count": 8
        }
      ]
    },
    {
      "cell_type": "code",
      "source": [
        "\n",
        "model = keras.Sequential([\n",
        "    keras.layers.Input(320),\n",
        "    keras.layers.Dense(320, activation='sigmoid',\n",
        "                       kernel_regularizer=tf.keras.regularizers.L2(l2=0.0001)),                  \n",
        "    keras.layers.Dense(len(classes))\n",
        "])"
      ],
      "metadata": {
        "id": "gjNd6bZ1eErf"
      },
      "execution_count": 9,
      "outputs": []
    },
    {
      "cell_type": "code",
      "source": [
        "model.compile(optimizer=tf.keras.optimizers.Adam(learning_rate=0.01),\n",
        "              loss=tf.keras.losses.SparseCategoricalCrossentropy(from_logits=True),\n",
        "              metrics=['accuracy'])"
      ],
      "metadata": {
        "id": "NtrHj25LgmCI"
      },
      "execution_count": 10,
      "outputs": []
    },
    {
      "cell_type": "code",
      "source": [
        "model.fit(X_train, y_train, epochs=10)"
      ],
      "metadata": {
        "colab": {
          "base_uri": "https://localhost:8080/"
        },
        "id": "XXtFjJPIgs0S",
        "outputId": "fa1fcc89-c3a9-4113-897f-8deb9a8a8c28"
      },
      "execution_count": 11,
      "outputs": [
        {
          "output_type": "stream",
          "name": "stdout",
          "text": [
            "Epoch 1/10\n",
            "31/31 [==============================] - 1s 3ms/step - loss: 2.9990 - accuracy: 0.2831\n",
            "Epoch 2/10\n",
            "31/31 [==============================] - 0s 3ms/step - loss: 1.2709 - accuracy: 0.6711\n",
            "Epoch 3/10\n",
            "31/31 [==============================] - 0s 4ms/step - loss: 0.7986 - accuracy: 0.8014\n",
            "Epoch 4/10\n",
            "31/31 [==============================] - 0s 4ms/step - loss: 0.6023 - accuracy: 0.8707\n",
            "Epoch 5/10\n",
            "31/31 [==============================] - 0s 4ms/step - loss: 0.4961 - accuracy: 0.8941\n",
            "Epoch 6/10\n",
            "31/31 [==============================] - 0s 3ms/step - loss: 0.4189 - accuracy: 0.9206\n",
            "Epoch 7/10\n",
            "31/31 [==============================] - 0s 4ms/step - loss: 0.3345 - accuracy: 0.9440\n",
            "Epoch 8/10\n",
            "31/31 [==============================] - 0s 3ms/step - loss: 0.2923 - accuracy: 0.9623\n",
            "Epoch 9/10\n",
            "31/31 [==============================] - 0s 3ms/step - loss: 0.2659 - accuracy: 0.9725\n",
            "Epoch 10/10\n",
            "31/31 [==============================] - 0s 3ms/step - loss: 0.2321 - accuracy: 0.9664\n"
          ]
        },
        {
          "output_type": "execute_result",
          "data": {
            "text/plain": [
              "<keras.callbacks.History at 0x7f84409e17d0>"
            ]
          },
          "metadata": {},
          "execution_count": 11
        }
      ]
    },
    {
      "cell_type": "code",
      "source": [
        "# Оценка метрики \"accuracy\" на обучающей выборке.\n",
        "model.evaluate(X_train, y_train)"
      ],
      "metadata": {
        "colab": {
          "base_uri": "https://localhost:8080/"
        },
        "id": "aIBFPc9fhFeQ",
        "outputId": "b924503f-3fb2-4514-ab6c-54dc62bada5d"
      },
      "execution_count": 12,
      "outputs": [
        {
          "output_type": "stream",
          "name": "stdout",
          "text": [
            "31/31 [==============================] - 0s 2ms/step - loss: 0.2069 - accuracy: 0.9715\n"
          ]
        },
        {
          "output_type": "execute_result",
          "data": {
            "text/plain": [
              "[0.20694786310195923, 0.9714867472648621]"
            ]
          },
          "metadata": {},
          "execution_count": 12
        }
      ]
    },
    {
      "cell_type": "code",
      "source": [
        "# Оценка метрики \"accuracy\" на обучающей выборке.\n",
        "model.evaluate(X_test, y_test)"
      ],
      "metadata": {
        "colab": {
          "base_uri": "https://localhost:8080/"
        },
        "id": "zDo4Kuznn0kP",
        "outputId": "abd5424b-9b41-43e6-bee3-e55d24a67ad8"
      },
      "execution_count": 13,
      "outputs": [
        {
          "output_type": "stream",
          "name": "stdout",
          "text": [
            "14/14 [==============================] - 0s 2ms/step - loss: 1.1784 - accuracy: 0.7062\n"
          ]
        },
        {
          "output_type": "execute_result",
          "data": {
            "text/plain": [
              "[1.1783982515335083, 0.7061611413955688]"
            ]
          },
          "metadata": {},
          "execution_count": 13
        }
      ]
    },
    {
      "cell_type": "code",
      "source": [
        "#!pip install catboost\n",
        "from catboost import CatBoostClassifier"
      ],
      "metadata": {
        "id": "aaEucOTys_Vi"
      },
      "execution_count": 14,
      "outputs": []
    },
    {
      "cell_type": "code",
      "source": [
        "cbc = CatBoostClassifier(random_seed=42)"
      ],
      "metadata": {
        "id": "UEfwCP0j1dfi"
      },
      "execution_count": 15,
      "outputs": []
    },
    {
      "cell_type": "code",
      "source": [
        "%%time\n",
        "cbc.fit(X_train, y_train, verbose=0)"
      ],
      "metadata": {
        "colab": {
          "base_uri": "https://localhost:8080/"
        },
        "id": "wukT94a710BN",
        "outputId": "6528eb59-48a8-40e9-9fa0-88e869e2bc41"
      },
      "execution_count": 16,
      "outputs": [
        {
          "output_type": "stream",
          "name": "stdout",
          "text": [
            "CPU times: user 17min 33s, sys: 1.42 s, total: 17min 35s\n",
            "Wall time: 9min 4s\n"
          ]
        },
        {
          "output_type": "execute_result",
          "data": {
            "text/plain": [
              "<catboost.core.CatBoostClassifier at 0x7f84405ccb50>"
            ]
          },
          "metadata": {},
          "execution_count": 16
        }
      ]
    },
    {
      "cell_type": "code",
      "source": [
        "# Оценка метрики \"accuracy\" на обучающей выборке.\n",
        "accuracy_score(y_train, cbc.predict(X_train))"
      ],
      "metadata": {
        "colab": {
          "base_uri": "https://localhost:8080/"
        },
        "id": "yf2aFtt-13x7",
        "outputId": "480b4862-c831-4748-94f6-9921ba7bd380"
      },
      "execution_count": 17,
      "outputs": [
        {
          "output_type": "execute_result",
          "data": {
            "text/plain": [
              "0.9755600814663951"
            ]
          },
          "metadata": {},
          "execution_count": 17
        }
      ]
    },
    {
      "cell_type": "code",
      "source": [
        "# Оценка метрики \"accuracy\" на тестовой выборке.\n",
        "accuracy_score(y_test, cbc.predict(X_test))"
      ],
      "metadata": {
        "colab": {
          "base_uri": "https://localhost:8080/"
        },
        "id": "UejH1g68S_I_",
        "outputId": "ee5f8d8d-214c-4d97-8eb7-a75d8b7742f6"
      },
      "execution_count": 18,
      "outputs": [
        {
          "output_type": "execute_result",
          "data": {
            "text/plain": [
              "0.6943127962085308"
            ]
          },
          "metadata": {},
          "execution_count": 18
        }
      ]
    },
    {
      "cell_type": "markdown",
      "source": [
        "**Оба метода: и нейросеть и catboost, показали примерно одинаковые результаты на тесте, но скорость обучения нейросети на порядок выше, чем алгоритм catboost.**"
      ],
      "metadata": {
        "id": "bL5eS-iYToQN"
      }
    }
  ]
}